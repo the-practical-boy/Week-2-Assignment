{
 "cells": [
  {
   "attachments": {},
   "cell_type": "markdown",
   "metadata": {},
   "source": [
    "To comment a code in Python there are two ways:\n",
    "1. Use '#' sysmbol for single line comment\n",
    "2. Enclose the content between triple commas '''example'''. This is used for multiline comment"
   ]
  }
 ],
 "metadata": {
  "language_info": {
   "name": "python"
  },
  "orig_nbformat": 4
 },
 "nbformat": 4,
 "nbformat_minor": 2
}
