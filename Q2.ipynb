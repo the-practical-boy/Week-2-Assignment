{
 "cells": [
  {
   "attachments": {},
   "cell_type": "markdown",
   "metadata": {},
   "source": [
    "1. Variables are like containers in Python that store some value. value can be int, float, string, boolean, etc.\n",
    "2. In python we need not to tell the data type explicitly and it will automatically identify the type of data assigned.\n",
    "3. We use '=' operator to assign values to the variable.\n",
    "4. Variable declaration has some rules like it cannot start with a number and it can't be a keyword. It can have only has underscore '_' as the special character."
   ]
  },
  {
   "cell_type": "code",
   "execution_count": 1,
   "metadata": {},
   "outputs": [],
   "source": [
    "a=45 #integer value initialised\n",
    "str='Vaibhav' #string\n"
   ]
  }
 ],
 "metadata": {
  "kernelspec": {
   "display_name": "Python 3",
   "language": "python",
   "name": "python3"
  },
  "language_info": {
   "codemirror_mode": {
    "name": "ipython",
    "version": 3
   },
   "file_extension": ".py",
   "mimetype": "text/x-python",
   "name": "python",
   "nbconvert_exporter": "python",
   "pygments_lexer": "ipython3",
   "version": "3.10.0"
  },
  "orig_nbformat": 4
 },
 "nbformat": 4,
 "nbformat_minor": 2
}
