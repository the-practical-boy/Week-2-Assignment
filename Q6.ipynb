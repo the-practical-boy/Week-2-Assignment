{
 "cells": [
  {
   "attachments": {},
   "cell_type": "markdown",
   "metadata": {},
   "source": [
    "complex number in Mathematics that has an imaginary part in it which is a factor that can not be solved and that is squareroot of -1. It has a real part and an imaginary part. To represent it in python we use the alphabet 'j' to represent the imaginary part.\n",
    "\n",
    "x= 2+7j"
   ]
  },
  {
   "cell_type": "markdown",
   "metadata": {},
   "source": []
  }
 ],
 "metadata": {
  "language_info": {
   "name": "python"
  },
  "orig_nbformat": 4
 },
 "nbformat": 4,
 "nbformat_minor": 2
}
