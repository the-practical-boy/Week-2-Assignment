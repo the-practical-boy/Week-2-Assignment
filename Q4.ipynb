{
 "cells": [
  {
   "attachments": {},
   "cell_type": "markdown",
   "metadata": {},
   "source": [
    "To execute a Python script in command line.\n",
    "First write 'python'\n",
    "then do all the operations like:\n",
    "print(\"Hello World\")\n",
    "press Enter to execute.\n",
    "to close python in cmd: use 'exit()' function and it will end "
   ]
  },
  {
   "cell_type": "markdown",
   "metadata": {},
   "source": []
  }
 ],
 "metadata": {
  "language_info": {
   "name": "python"
  },
  "orig_nbformat": 4
 },
 "nbformat": 4,
 "nbformat_minor": 2
}
